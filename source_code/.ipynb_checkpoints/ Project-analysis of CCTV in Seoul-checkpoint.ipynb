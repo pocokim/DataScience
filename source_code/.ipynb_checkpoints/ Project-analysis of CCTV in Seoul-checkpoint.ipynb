{
 "cells": [
  {
   "cell_type": "markdown",
   "metadata": {
    "collapsed": true,
    "jupyter": {
     "outputs_hidden": true
    }
   },
   "source": [
    "# 서울시 구별 CCTV 현황 분석하기\n",
    "\n",
    "1. 서울시 각 구별 CCTV수를 파악하기\n",
    "   - CCTV 갯수가 가장 많은 구는 어디인가요?,\n",
    "   - CCTV 갯수가 가장 적은구는어디인가요?,\n",
    "2. 인구 비율 파악\n",
    "   - 외국인 비율이 가장 많은 구는 어디인가요?  \n",
    "3. 인구 대비 CCTV 비율 파악\n",
    "   - 인구 대비 CCTV 갯수가 많은 상위 5개는 어디인가요?\n",
    "   - 인구대비 CCTV 갯수가 적은 하위 4개는 어디인가요? "
   ]
  },
  {
   "cell_type": "markdown",
   "metadata": {},
   "source": [
    "## 1. 서울시 CCTV CSV 파일을 열고 파일의 구성을 확인하고 변수명을 바꾸기  \n",
    "\n",
    "파일명: 01. CCTV_in_Seoul.csv (폴더 안을 확인해주세요)\n",
    "\n",
    "### 1.1 확인하기 : 어떤 변수가 있는지, 열은 몇개인지 등등..\n",
    "### 1.2 변수명 바꾸기: 첫번째 변수명을 '기관명'에서 '구별'로 바꾸기\n"
   ]
  },
  {
   "cell_type": "code",
   "execution_count": null,
   "metadata": {},
   "outputs": [],
   "source": []
  },
  {
   "cell_type": "markdown",
   "metadata": {},
   "source": [
    "## 2-2. 서울시 인구현황 CSV 파일을 열고 파일의 구성을 확인하고 변수명을 바꿔봅시다 \n",
    "\n",
    "파일명: 01. population_in_Seoul.csv\n",
    "\n",
    "### 1.1 확인하기 : 어떤 변수가 있는지, 열은 몇개인지 등등..\n",
    "### 1.2 변수명 바꾸기: 1번째 ~ 5번째변수명을 각각 '구별', '인구수', '한국인', '외국인', '고령자로 바꾸기 "
   ]
  },
  {
   "cell_type": "code",
   "execution_count": null,
   "metadata": {},
   "outputs": [],
   "source": []
  },
  {
   "cell_type": "markdown",
   "metadata": {},
   "source": [
    "# 3. CCTV와 인구현황 합쳐서 분석하기\n",
    "TIP: 두 데이터프레임을 합치고, '구별'을 인덱스로 바꿔주세요\n"
   ]
  },
  {
   "cell_type": "code",
   "execution_count": null,
   "metadata": {},
   "outputs": [],
   "source": []
  },
  {
   "cell_type": "markdown",
   "metadata": {},
   "source": [
    "# 4. CCTV와 인구현황 그래프로 분석하기\n",
    "- 지역별 CCTV 갯수를 차트로 그려주세요\n",
    "- 지역별 CCTV 비율을 차트로 그려주세요\n",
    "- (추가분석) 인구수와 CCTV 비율을 산점도로 파악해보세요\n",
    "- (추가) 산점도로 그린 차트에 추세선까지 그려보세요 "
   ]
  },
  {
   "cell_type": "markdown",
   "metadata": {},
   "source": [
    "# 5. 분설결과를 작성해주세요 \n"
   ]
  },
  {
   "cell_type": "code",
   "execution_count": null,
   "metadata": {},
   "outputs": [],
   "source": []
  }
 ],
 "metadata": {
  "anaconda-cloud": {},
  "kernelspec": {
   "display_name": "Python 3 (ipykernel)",
   "language": "python",
   "name": "python3"
  },
  "language_info": {
   "codemirror_mode": {
    "name": "ipython",
    "version": 3
   },
   "file_extension": ".py",
   "mimetype": "text/x-python",
   "name": "python",
   "nbconvert_exporter": "python",
   "pygments_lexer": "ipython3",
   "version": "3.12.4"
  }
 },
 "nbformat": 4,
 "nbformat_minor": 4
}
